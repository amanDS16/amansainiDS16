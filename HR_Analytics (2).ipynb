{
 "cells": [
  {
   "cell_type": "markdown",
   "metadata": {},
   "source": [
    "<h1 align='center' style='color:purple'><b>HR Analytics</b></h1>"
   ]
  },
  {
   "cell_type": "markdown",
   "metadata": {},
   "source": [
    "**Problem Statement**  \n",
    "A large company named XYZ, employs, at any given point of time, around 4000 employees. However, every year, around 15% of its employees leave the company and need to be replaced with the talent pool available in the job market. The management believes that this level of attrition (employees leaving, either on their own or because they got fired) is bad for the company, because of the following reasons -\n",
    "\n",
    "1. The former employees’ projects get delayed, which makes it difficult to meet timelines, resulting in a reputation loss among consumers and partners\n",
    "2. A sizeable department has to be maintained, for the purposes of recruiting new talent\n",
    "3. More often than not, the new employees have to be trained for the job and/or given time to acclimatise themselves to the company\n",
    "Hence, the management has contracted an HR analytics firm to understand what factors they should focus on, in order to curb attrition. In other words, they want to know what changes they should make to their workplace, in order to get most of their employees to stay. Also, they want to know which of these variables is most important and needs to be addressed right away.\n",
    "\n",
    "Since you are one of the star analysts at the firm, this project has been given to you.\n",
    "\n",
    "**Goal of the case study**  \n",
    "You are required to model the probability of attrition using a Decision trees. The results thus obtained will be used by the management to understand what changes they should make to their workplace, in order to get most of their employees to stay."
   ]
  },
  {
   "cell_type": "markdown",
   "metadata": {},
   "source": [
    "# Outline\n",
    "1. Import & Merge Datasets\n",
    "2. Missing Value's Imputation\n",
    "3. Exploratory Data Analysis \n",
    "4. Feature Engineering\n",
    "5. Model Building\n",
    "6. Model Evaluation"
   ]
  },
  {
   "cell_type": "code",
   "execution_count": 1,
   "metadata": {},
   "outputs": [],
   "source": [
    "# Import Pandas and NumPy\n",
    "import numpy as np \n",
    "import pandas as pd\n",
    "\n",
    "# Import Libraries for plotting\n",
    "import matplotlib.pyplot as plt, seaborn as sns\n",
    "\n",
    "# Supress Warnings\n",
    "import warnings\n",
    "warnings.filterwarnings('ignore')\n",
    "\n",
    "# Change pandas settings to Display all columns\n",
    "pd.set_option('display.max_columns',None)"
   ]
  },
  {
   "cell_type": "markdown",
   "metadata": {},
   "source": [
    "### 1. Import & Merge Datasets"
   ]
  },
  {
   "cell_type": "code",
   "execution_count": 2,
   "metadata": {},
   "outputs": [
    {
     "ename": "FileNotFoundError",
     "evalue": "[Errno 2] No such file or directory: 'general_data.csv'",
     "output_type": "error",
     "traceback": [
      "\u001b[1;31m---------------------------------------------------------------------------\u001b[0m",
      "\u001b[1;31mFileNotFoundError\u001b[0m                         Traceback (most recent call last)",
      "Input \u001b[1;32mIn [2]\u001b[0m, in \u001b[0;36m<cell line: 3>\u001b[1;34m()\u001b[0m\n\u001b[0;32m      1\u001b[0m \u001b[38;5;66;03m# We will be using 5 Datasets for this project \u001b[39;00m\n\u001b[0;32m      2\u001b[0m \u001b[38;5;66;03m# General Data\u001b[39;00m\n\u001b[1;32m----> 3\u001b[0m general_data \u001b[38;5;241m=\u001b[39m \u001b[43mpd\u001b[49m\u001b[38;5;241;43m.\u001b[39;49m\u001b[43mread_csv\u001b[49m\u001b[43m(\u001b[49m\u001b[38;5;124;43m'\u001b[39;49m\u001b[38;5;124;43mgeneral_data.csv\u001b[39;49m\u001b[38;5;124;43m'\u001b[39;49m\u001b[43m)\u001b[49m\n\u001b[0;32m      5\u001b[0m \u001b[38;5;66;03m# Survey Data\u001b[39;00m\n\u001b[0;32m      6\u001b[0m manager_survey_data \u001b[38;5;241m=\u001b[39m pd\u001b[38;5;241m.\u001b[39mread_csv(\u001b[38;5;124m'\u001b[39m\u001b[38;5;124mmanager_survey_data.csv\u001b[39m\u001b[38;5;124m'\u001b[39m)\n",
      "File \u001b[1;32m~\\anaconda3\\lib\\site-packages\\pandas\\util\\_decorators.py:311\u001b[0m, in \u001b[0;36mdeprecate_nonkeyword_arguments.<locals>.decorate.<locals>.wrapper\u001b[1;34m(*args, **kwargs)\u001b[0m\n\u001b[0;32m    305\u001b[0m \u001b[38;5;28;01mif\u001b[39;00m \u001b[38;5;28mlen\u001b[39m(args) \u001b[38;5;241m>\u001b[39m num_allow_args:\n\u001b[0;32m    306\u001b[0m     warnings\u001b[38;5;241m.\u001b[39mwarn(\n\u001b[0;32m    307\u001b[0m         msg\u001b[38;5;241m.\u001b[39mformat(arguments\u001b[38;5;241m=\u001b[39marguments),\n\u001b[0;32m    308\u001b[0m         \u001b[38;5;167;01mFutureWarning\u001b[39;00m,\n\u001b[0;32m    309\u001b[0m         stacklevel\u001b[38;5;241m=\u001b[39mstacklevel,\n\u001b[0;32m    310\u001b[0m     )\n\u001b[1;32m--> 311\u001b[0m \u001b[38;5;28;01mreturn\u001b[39;00m func(\u001b[38;5;241m*\u001b[39margs, \u001b[38;5;241m*\u001b[39m\u001b[38;5;241m*\u001b[39mkwargs)\n",
      "File \u001b[1;32m~\\anaconda3\\lib\\site-packages\\pandas\\io\\parsers\\readers.py:680\u001b[0m, in \u001b[0;36mread_csv\u001b[1;34m(filepath_or_buffer, sep, delimiter, header, names, index_col, usecols, squeeze, prefix, mangle_dupe_cols, dtype, engine, converters, true_values, false_values, skipinitialspace, skiprows, skipfooter, nrows, na_values, keep_default_na, na_filter, verbose, skip_blank_lines, parse_dates, infer_datetime_format, keep_date_col, date_parser, dayfirst, cache_dates, iterator, chunksize, compression, thousands, decimal, lineterminator, quotechar, quoting, doublequote, escapechar, comment, encoding, encoding_errors, dialect, error_bad_lines, warn_bad_lines, on_bad_lines, delim_whitespace, low_memory, memory_map, float_precision, storage_options)\u001b[0m\n\u001b[0;32m    665\u001b[0m kwds_defaults \u001b[38;5;241m=\u001b[39m _refine_defaults_read(\n\u001b[0;32m    666\u001b[0m     dialect,\n\u001b[0;32m    667\u001b[0m     delimiter,\n\u001b[1;32m   (...)\u001b[0m\n\u001b[0;32m    676\u001b[0m     defaults\u001b[38;5;241m=\u001b[39m{\u001b[38;5;124m\"\u001b[39m\u001b[38;5;124mdelimiter\u001b[39m\u001b[38;5;124m\"\u001b[39m: \u001b[38;5;124m\"\u001b[39m\u001b[38;5;124m,\u001b[39m\u001b[38;5;124m\"\u001b[39m},\n\u001b[0;32m    677\u001b[0m )\n\u001b[0;32m    678\u001b[0m kwds\u001b[38;5;241m.\u001b[39mupdate(kwds_defaults)\n\u001b[1;32m--> 680\u001b[0m \u001b[38;5;28;01mreturn\u001b[39;00m \u001b[43m_read\u001b[49m\u001b[43m(\u001b[49m\u001b[43mfilepath_or_buffer\u001b[49m\u001b[43m,\u001b[49m\u001b[43m \u001b[49m\u001b[43mkwds\u001b[49m\u001b[43m)\u001b[49m\n",
      "File \u001b[1;32m~\\anaconda3\\lib\\site-packages\\pandas\\io\\parsers\\readers.py:575\u001b[0m, in \u001b[0;36m_read\u001b[1;34m(filepath_or_buffer, kwds)\u001b[0m\n\u001b[0;32m    572\u001b[0m _validate_names(kwds\u001b[38;5;241m.\u001b[39mget(\u001b[38;5;124m\"\u001b[39m\u001b[38;5;124mnames\u001b[39m\u001b[38;5;124m\"\u001b[39m, \u001b[38;5;28;01mNone\u001b[39;00m))\n\u001b[0;32m    574\u001b[0m \u001b[38;5;66;03m# Create the parser.\u001b[39;00m\n\u001b[1;32m--> 575\u001b[0m parser \u001b[38;5;241m=\u001b[39m TextFileReader(filepath_or_buffer, \u001b[38;5;241m*\u001b[39m\u001b[38;5;241m*\u001b[39mkwds)\n\u001b[0;32m    577\u001b[0m \u001b[38;5;28;01mif\u001b[39;00m chunksize \u001b[38;5;129;01mor\u001b[39;00m iterator:\n\u001b[0;32m    578\u001b[0m     \u001b[38;5;28;01mreturn\u001b[39;00m parser\n",
      "File \u001b[1;32m~\\anaconda3\\lib\\site-packages\\pandas\\io\\parsers\\readers.py:933\u001b[0m, in \u001b[0;36mTextFileReader.__init__\u001b[1;34m(self, f, engine, **kwds)\u001b[0m\n\u001b[0;32m    930\u001b[0m     \u001b[38;5;28mself\u001b[39m\u001b[38;5;241m.\u001b[39moptions[\u001b[38;5;124m\"\u001b[39m\u001b[38;5;124mhas_index_names\u001b[39m\u001b[38;5;124m\"\u001b[39m] \u001b[38;5;241m=\u001b[39m kwds[\u001b[38;5;124m\"\u001b[39m\u001b[38;5;124mhas_index_names\u001b[39m\u001b[38;5;124m\"\u001b[39m]\n\u001b[0;32m    932\u001b[0m \u001b[38;5;28mself\u001b[39m\u001b[38;5;241m.\u001b[39mhandles: IOHandles \u001b[38;5;241m|\u001b[39m \u001b[38;5;28;01mNone\u001b[39;00m \u001b[38;5;241m=\u001b[39m \u001b[38;5;28;01mNone\u001b[39;00m\n\u001b[1;32m--> 933\u001b[0m \u001b[38;5;28mself\u001b[39m\u001b[38;5;241m.\u001b[39m_engine \u001b[38;5;241m=\u001b[39m \u001b[38;5;28;43mself\u001b[39;49m\u001b[38;5;241;43m.\u001b[39;49m\u001b[43m_make_engine\u001b[49m\u001b[43m(\u001b[49m\u001b[43mf\u001b[49m\u001b[43m,\u001b[49m\u001b[43m \u001b[49m\u001b[38;5;28;43mself\u001b[39;49m\u001b[38;5;241;43m.\u001b[39;49m\u001b[43mengine\u001b[49m\u001b[43m)\u001b[49m\n",
      "File \u001b[1;32m~\\anaconda3\\lib\\site-packages\\pandas\\io\\parsers\\readers.py:1217\u001b[0m, in \u001b[0;36mTextFileReader._make_engine\u001b[1;34m(self, f, engine)\u001b[0m\n\u001b[0;32m   1213\u001b[0m     mode \u001b[38;5;241m=\u001b[39m \u001b[38;5;124m\"\u001b[39m\u001b[38;5;124mrb\u001b[39m\u001b[38;5;124m\"\u001b[39m\n\u001b[0;32m   1214\u001b[0m \u001b[38;5;66;03m# error: No overload variant of \"get_handle\" matches argument types\u001b[39;00m\n\u001b[0;32m   1215\u001b[0m \u001b[38;5;66;03m# \"Union[str, PathLike[str], ReadCsvBuffer[bytes], ReadCsvBuffer[str]]\"\u001b[39;00m\n\u001b[0;32m   1216\u001b[0m \u001b[38;5;66;03m# , \"str\", \"bool\", \"Any\", \"Any\", \"Any\", \"Any\", \"Any\"\u001b[39;00m\n\u001b[1;32m-> 1217\u001b[0m \u001b[38;5;28mself\u001b[39m\u001b[38;5;241m.\u001b[39mhandles \u001b[38;5;241m=\u001b[39m \u001b[43mget_handle\u001b[49m\u001b[43m(\u001b[49m\u001b[43m  \u001b[49m\u001b[38;5;66;43;03m# type: ignore[call-overload]\u001b[39;49;00m\n\u001b[0;32m   1218\u001b[0m \u001b[43m    \u001b[49m\u001b[43mf\u001b[49m\u001b[43m,\u001b[49m\n\u001b[0;32m   1219\u001b[0m \u001b[43m    \u001b[49m\u001b[43mmode\u001b[49m\u001b[43m,\u001b[49m\n\u001b[0;32m   1220\u001b[0m \u001b[43m    \u001b[49m\u001b[43mencoding\u001b[49m\u001b[38;5;241;43m=\u001b[39;49m\u001b[38;5;28;43mself\u001b[39;49m\u001b[38;5;241;43m.\u001b[39;49m\u001b[43moptions\u001b[49m\u001b[38;5;241;43m.\u001b[39;49m\u001b[43mget\u001b[49m\u001b[43m(\u001b[49m\u001b[38;5;124;43m\"\u001b[39;49m\u001b[38;5;124;43mencoding\u001b[39;49m\u001b[38;5;124;43m\"\u001b[39;49m\u001b[43m,\u001b[49m\u001b[43m \u001b[49m\u001b[38;5;28;43;01mNone\u001b[39;49;00m\u001b[43m)\u001b[49m\u001b[43m,\u001b[49m\n\u001b[0;32m   1221\u001b[0m \u001b[43m    \u001b[49m\u001b[43mcompression\u001b[49m\u001b[38;5;241;43m=\u001b[39;49m\u001b[38;5;28;43mself\u001b[39;49m\u001b[38;5;241;43m.\u001b[39;49m\u001b[43moptions\u001b[49m\u001b[38;5;241;43m.\u001b[39;49m\u001b[43mget\u001b[49m\u001b[43m(\u001b[49m\u001b[38;5;124;43m\"\u001b[39;49m\u001b[38;5;124;43mcompression\u001b[39;49m\u001b[38;5;124;43m\"\u001b[39;49m\u001b[43m,\u001b[49m\u001b[43m \u001b[49m\u001b[38;5;28;43;01mNone\u001b[39;49;00m\u001b[43m)\u001b[49m\u001b[43m,\u001b[49m\n\u001b[0;32m   1222\u001b[0m \u001b[43m    \u001b[49m\u001b[43mmemory_map\u001b[49m\u001b[38;5;241;43m=\u001b[39;49m\u001b[38;5;28;43mself\u001b[39;49m\u001b[38;5;241;43m.\u001b[39;49m\u001b[43moptions\u001b[49m\u001b[38;5;241;43m.\u001b[39;49m\u001b[43mget\u001b[49m\u001b[43m(\u001b[49m\u001b[38;5;124;43m\"\u001b[39;49m\u001b[38;5;124;43mmemory_map\u001b[39;49m\u001b[38;5;124;43m\"\u001b[39;49m\u001b[43m,\u001b[49m\u001b[43m \u001b[49m\u001b[38;5;28;43;01mFalse\u001b[39;49;00m\u001b[43m)\u001b[49m\u001b[43m,\u001b[49m\n\u001b[0;32m   1223\u001b[0m \u001b[43m    \u001b[49m\u001b[43mis_text\u001b[49m\u001b[38;5;241;43m=\u001b[39;49m\u001b[43mis_text\u001b[49m\u001b[43m,\u001b[49m\n\u001b[0;32m   1224\u001b[0m \u001b[43m    \u001b[49m\u001b[43merrors\u001b[49m\u001b[38;5;241;43m=\u001b[39;49m\u001b[38;5;28;43mself\u001b[39;49m\u001b[38;5;241;43m.\u001b[39;49m\u001b[43moptions\u001b[49m\u001b[38;5;241;43m.\u001b[39;49m\u001b[43mget\u001b[49m\u001b[43m(\u001b[49m\u001b[38;5;124;43m\"\u001b[39;49m\u001b[38;5;124;43mencoding_errors\u001b[39;49m\u001b[38;5;124;43m\"\u001b[39;49m\u001b[43m,\u001b[49m\u001b[43m \u001b[49m\u001b[38;5;124;43m\"\u001b[39;49m\u001b[38;5;124;43mstrict\u001b[39;49m\u001b[38;5;124;43m\"\u001b[39;49m\u001b[43m)\u001b[49m\u001b[43m,\u001b[49m\n\u001b[0;32m   1225\u001b[0m \u001b[43m    \u001b[49m\u001b[43mstorage_options\u001b[49m\u001b[38;5;241;43m=\u001b[39;49m\u001b[38;5;28;43mself\u001b[39;49m\u001b[38;5;241;43m.\u001b[39;49m\u001b[43moptions\u001b[49m\u001b[38;5;241;43m.\u001b[39;49m\u001b[43mget\u001b[49m\u001b[43m(\u001b[49m\u001b[38;5;124;43m\"\u001b[39;49m\u001b[38;5;124;43mstorage_options\u001b[39;49m\u001b[38;5;124;43m\"\u001b[39;49m\u001b[43m,\u001b[49m\u001b[43m \u001b[49m\u001b[38;5;28;43;01mNone\u001b[39;49;00m\u001b[43m)\u001b[49m\u001b[43m,\u001b[49m\n\u001b[0;32m   1226\u001b[0m \u001b[43m\u001b[49m\u001b[43m)\u001b[49m\n\u001b[0;32m   1227\u001b[0m \u001b[38;5;28;01massert\u001b[39;00m \u001b[38;5;28mself\u001b[39m\u001b[38;5;241m.\u001b[39mhandles \u001b[38;5;129;01mis\u001b[39;00m \u001b[38;5;129;01mnot\u001b[39;00m \u001b[38;5;28;01mNone\u001b[39;00m\n\u001b[0;32m   1228\u001b[0m f \u001b[38;5;241m=\u001b[39m \u001b[38;5;28mself\u001b[39m\u001b[38;5;241m.\u001b[39mhandles\u001b[38;5;241m.\u001b[39mhandle\n",
      "File \u001b[1;32m~\\anaconda3\\lib\\site-packages\\pandas\\io\\common.py:789\u001b[0m, in \u001b[0;36mget_handle\u001b[1;34m(path_or_buf, mode, encoding, compression, memory_map, is_text, errors, storage_options)\u001b[0m\n\u001b[0;32m    784\u001b[0m \u001b[38;5;28;01melif\u001b[39;00m \u001b[38;5;28misinstance\u001b[39m(handle, \u001b[38;5;28mstr\u001b[39m):\n\u001b[0;32m    785\u001b[0m     \u001b[38;5;66;03m# Check whether the filename is to be opened in binary mode.\u001b[39;00m\n\u001b[0;32m    786\u001b[0m     \u001b[38;5;66;03m# Binary mode does not support 'encoding' and 'newline'.\u001b[39;00m\n\u001b[0;32m    787\u001b[0m     \u001b[38;5;28;01mif\u001b[39;00m ioargs\u001b[38;5;241m.\u001b[39mencoding \u001b[38;5;129;01mand\u001b[39;00m \u001b[38;5;124m\"\u001b[39m\u001b[38;5;124mb\u001b[39m\u001b[38;5;124m\"\u001b[39m \u001b[38;5;129;01mnot\u001b[39;00m \u001b[38;5;129;01min\u001b[39;00m ioargs\u001b[38;5;241m.\u001b[39mmode:\n\u001b[0;32m    788\u001b[0m         \u001b[38;5;66;03m# Encoding\u001b[39;00m\n\u001b[1;32m--> 789\u001b[0m         handle \u001b[38;5;241m=\u001b[39m \u001b[38;5;28;43mopen\u001b[39;49m\u001b[43m(\u001b[49m\n\u001b[0;32m    790\u001b[0m \u001b[43m            \u001b[49m\u001b[43mhandle\u001b[49m\u001b[43m,\u001b[49m\n\u001b[0;32m    791\u001b[0m \u001b[43m            \u001b[49m\u001b[43mioargs\u001b[49m\u001b[38;5;241;43m.\u001b[39;49m\u001b[43mmode\u001b[49m\u001b[43m,\u001b[49m\n\u001b[0;32m    792\u001b[0m \u001b[43m            \u001b[49m\u001b[43mencoding\u001b[49m\u001b[38;5;241;43m=\u001b[39;49m\u001b[43mioargs\u001b[49m\u001b[38;5;241;43m.\u001b[39;49m\u001b[43mencoding\u001b[49m\u001b[43m,\u001b[49m\n\u001b[0;32m    793\u001b[0m \u001b[43m            \u001b[49m\u001b[43merrors\u001b[49m\u001b[38;5;241;43m=\u001b[39;49m\u001b[43merrors\u001b[49m\u001b[43m,\u001b[49m\n\u001b[0;32m    794\u001b[0m \u001b[43m            \u001b[49m\u001b[43mnewline\u001b[49m\u001b[38;5;241;43m=\u001b[39;49m\u001b[38;5;124;43m\"\u001b[39;49m\u001b[38;5;124;43m\"\u001b[39;49m\u001b[43m,\u001b[49m\n\u001b[0;32m    795\u001b[0m \u001b[43m        \u001b[49m\u001b[43m)\u001b[49m\n\u001b[0;32m    796\u001b[0m     \u001b[38;5;28;01melse\u001b[39;00m:\n\u001b[0;32m    797\u001b[0m         \u001b[38;5;66;03m# Binary mode\u001b[39;00m\n\u001b[0;32m    798\u001b[0m         handle \u001b[38;5;241m=\u001b[39m \u001b[38;5;28mopen\u001b[39m(handle, ioargs\u001b[38;5;241m.\u001b[39mmode)\n",
      "\u001b[1;31mFileNotFoundError\u001b[0m: [Errno 2] No such file or directory: 'general_data.csv'"
     ]
    }
   ],
   "source": [
    "# We will be using 5 Datasets for this project \n",
    "# General Data\n",
    "general_data = pd.read_csv('general_data.csv')\n",
    "\n",
    "# Survey Data\n",
    "manager_survey_data = pd.read_csv('manager_survey_data.csv')\n",
    "employee_survey_data = pd.read_csv('employee_survey_data.csv')\n",
    "\n",
    "# Office Entry/Exit Timings\n",
    "in_time = pd.read_csv('in_time.csv')\n",
    "out_time = pd.read_csv('out_time.csv')\n",
    "\n",
    "# Import Data Dictionary - which contains details about each variables present in all 5 datasets\n",
    "data_dictionary = pd.read_excel('data_dictionary.xlsx')"
   ]
  },
  {
   "cell_type": "markdown",
   "metadata": {},
   "source": [
    "### Lets have a look at each datasets"
   ]
  },
  {
   "cell_type": "markdown",
   "metadata": {},
   "source": [
    "#### General Data"
   ]
  },
  {
   "cell_type": "code",
   "execution_count": null,
   "metadata": {},
   "outputs": [],
   "source": [
    "print('Shape of general_data :',general_data.shape)\n",
    "general_data.head()"
   ]
  },
  {
   "cell_type": "markdown",
   "metadata": {},
   "source": [
    "This Dataset contains employee general work related details."
   ]
  },
  {
   "cell_type": "markdown",
   "metadata": {},
   "source": [
    "#### Manager Survey Data"
   ]
  },
  {
   "cell_type": "code",
   "execution_count": null,
   "metadata": {},
   "outputs": [],
   "source": [
    "print('Shape of manager_survey_data :',manager_survey_data.shape)\n",
    "manager_survey_data.head()"
   ]
  },
  {
   "cell_type": "markdown",
   "metadata": {},
   "source": [
    "This Dataset contains the details of survey given by the manager of every employee."
   ]
  },
  {
   "cell_type": "markdown",
   "metadata": {},
   "source": [
    "#### Employee Survey Data"
   ]
  },
  {
   "cell_type": "code",
   "execution_count": null,
   "metadata": {},
   "outputs": [],
   "source": [
    "print('Shape of employee_survey_data :',employee_survey_data.shape)\n",
    "employee_survey_data.head()"
   ]
  },
  {
   "cell_type": "markdown",
   "metadata": {},
   "source": [
    "This Dataset contains the details of survey given by employee."
   ]
  },
  {
   "cell_type": "markdown",
   "metadata": {},
   "source": [
    "#### In_time Data"
   ]
  },
  {
   "cell_type": "code",
   "execution_count": null,
   "metadata": {},
   "outputs": [],
   "source": [
    "print('Shape of in_time :',in_time.shape)\n",
    "in_time.head()"
   ]
  },
  {
   "cell_type": "markdown",
   "metadata": {},
   "source": [
    "This dataset contains the office start/entry time for the entire year 2015."
   ]
  },
  {
   "cell_type": "markdown",
   "metadata": {},
   "source": [
    "#### Out_time Data"
   ]
  },
  {
   "cell_type": "code",
   "execution_count": null,
   "metadata": {},
   "outputs": [],
   "source": [
    "print('Shape of out_time :',out_time.shape)\n",
    "out_time.head()"
   ]
  },
  {
   "cell_type": "markdown",
   "metadata": {},
   "source": [
    "This dataset contains the office end/exit time for the entire year 2015."
   ]
  },
  {
   "cell_type": "markdown",
   "metadata": {},
   "source": [
    "#### View the Data Dictionary, which contains information about each variables present in all 5 datasets."
   ]
  },
  {
   "cell_type": "code",
   "execution_count": null,
   "metadata": {},
   "outputs": [],
   "source": [
    "data_dictionary.replace(np.nan,\" \")"
   ]
  },
  {
   "cell_type": "markdown",
   "metadata": {},
   "source": [
    "#### Using in_time and out_time, find the mean working hour of each employee"
   ]
  },
  {
   "cell_type": "markdown",
   "metadata": {},
   "source": [
    "Fill Missing values in in_time & out_time."
   ]
  },
  {
   "cell_type": "code",
   "execution_count": null,
   "metadata": {},
   "outputs": [],
   "source": [
    "in_time.fillna(0, inplace=True)\n",
    "out_time.fillna(0, inplace=True)"
   ]
  },
  {
   "cell_type": "markdown",
   "metadata": {},
   "source": [
    "Convert all columns (except unnamed:0 which is employee id) to Datetime format using pandas."
   ]
  },
  {
   "cell_type": "code",
   "execution_count": null,
   "metadata": {},
   "outputs": [],
   "source": [
    "in_time.iloc[:, 1:] = in_time.iloc[:, 1:].apply(pd.to_datetime, errors='coerce')  #coerce : in case of error during conversion, place NaN or NaT.\n",
    "out_time.iloc[:, 1:] = out_time.iloc[:, 1:].apply(pd.to_datetime, errors='coerce')"
   ]
  },
  {
   "cell_type": "markdown",
   "metadata": {},
   "source": [
    "Join in_time and out_time into a single df total_time using append."
   ]
  },
  {
   "cell_type": "code",
   "execution_count": null,
   "metadata": {},
   "outputs": [],
   "source": [
    "total_time=in_time.append(out_time)"
   ]
  },
  {
   "cell_type": "markdown",
   "metadata": {},
   "source": [
    "Find the difference between the out_time and in_time using diff."
   ]
  },
  {
   "cell_type": "code",
   "execution_count": null,
   "metadata": {},
   "outputs": [],
   "source": [
    "total_time=total_time.diff(periods=4410)      # diff find the difference of two values in a df. \n",
    "total_time=total_time.iloc[4410:]             # As the first 4410 value are nan, the diff is availble from 4410 till 8820.\n",
    "\n",
    "# reset the index as now index starts from 4410\n",
    "total_time.reset_index(inplace=True)\n",
    "total_time.head()"
   ]
  },
  {
   "cell_type": "markdown",
   "metadata": {},
   "source": [
    "A few columns have 0 value. It means that office was closed on that particular day."
   ]
  },
  {
   "cell_type": "code",
   "execution_count": null,
   "metadata": {},
   "outputs": [],
   "source": [
    "# remove these columns to calculate mean time (remember that index is employee id, so, later we need to add it again)\n",
    "total_time.drop(columns=['index','Unnamed: 0'],axis=1,inplace=True)\n",
    "total_time.head()"
   ]
  },
  {
   "cell_type": "code",
   "execution_count": null,
   "metadata": {},
   "outputs": [],
   "source": [
    "# remove all 0 columns which represent holidays ()\n",
    "total_time.drop(['2015-01-01', '2015-01-14','2015-01-26','2015-03-05','2015-05-01','2015-07-17','2015-09-17',\n",
    "                 '2015-10-02','2015-11-09','2015-11-10','2015-11-11','2015-12-25'], axis = 1,inplace=True) "
   ]
  },
  {
   "cell_type": "code",
   "execution_count": null,
   "metadata": {},
   "outputs": [],
   "source": [
    "# Find mean of each row and save it to a 'mean_time' column\n",
    "total_time['mean_time']=total_time.mean(axis=1)"
   ]
  },
  {
   "cell_type": "code",
   "execution_count": null,
   "metadata": {},
   "outputs": [],
   "source": [
    "# Lets have a look at the total_time df\n",
    "total_time"
   ]
  },
  {
   "cell_type": "code",
   "execution_count": null,
   "metadata": {},
   "outputs": [],
   "source": [
    "# Lets have a look at a time record\n",
    "total_time.iloc[0,0]"
   ]
  },
  {
   "cell_type": "markdown",
   "metadata": {},
   "source": [
    "We can compute the total hours by converting this to string and splitting it by ' ', then by again splitting it by ' ' we will get hour, minutes and seconds. Add hour, minutes/60 and second/3600 to get total hours."
   ]
  },
  {
   "cell_type": "code",
   "execution_count": null,
   "metadata": {},
   "outputs": [],
   "source": [
    "# Convert mean time to hours - \n",
    "total_time.mean_time = total_time.mean_time.apply(lambda x : int(str(x).split(' ')[2].split(':')[0]) + int((str(x).split(' ')[2].split(':')[1]))/60\n",
    "                           + float((str(x).split(' ')[2].split(':')[2]))/3600)"
   ]
  },
  {
   "cell_type": "code",
   "execution_count": null,
   "metadata": {},
   "outputs": [],
   "source": [
    "# Againg add a columns for employee id - since id was from 0 to 4410, we can get it just by resetting the index\n",
    "total_time.reset_index(inplace=True)\n",
    "\n",
    "# Lets have a look at the total_time dataframe\n",
    "total_time.head()"
   ]
  },
  {
   "cell_type": "code",
   "execution_count": null,
   "metadata": {},
   "outputs": [],
   "source": [
    "# rename index as EmployeeID (as it is the columns name in general_data) for convienience while merging datasets\n",
    "total_time = total_time.rename(columns={'index': 'EmployeeID'})\n",
    "total_time.head()"
   ]
  },
  {
   "cell_type": "code",
   "execution_count": null,
   "metadata": {},
   "outputs": [],
   "source": [
    "# Since we only need employee id and mean working time of employee, remove all other columns\n",
    "total_time = total_time.drop((total_time.columns[1:-1]), axis = 1)"
   ]
  },
  {
   "cell_type": "markdown",
   "metadata": {},
   "source": [
    "#### Final total_time df with employee_id and mean time"
   ]
  },
  {
   "cell_type": "code",
   "execution_count": null,
   "metadata": {},
   "outputs": [],
   "source": [
    "total_time.head()"
   ]
  },
  {
   "cell_type": "markdown",
   "metadata": {},
   "source": [
    "#### Merge all 5 dataframers, two at a time using merge"
   ]
  },
  {
   "cell_type": "code",
   "execution_count": null,
   "metadata": {},
   "outputs": [],
   "source": [
    "# First merger general_data and manager_survey_data and save it in df dataframe\n",
    "df = pd.merge(general_data, manager_survey_data, on='EmployeeID', how='inner')\n",
    "\n",
    "# Merge employee_survey_data to df\n",
    "df = pd.merge(df, employee_survey_data, on='EmployeeID', how='inner')\n",
    "\n",
    "# Finally merge mean working time of employees to df\n",
    "df = pd.merge(df, total_time, on='EmployeeID', how='inner')\n",
    "df.head()"
   ]
  },
  {
   "cell_type": "markdown",
   "metadata": {},
   "source": [
    "#### Let's check column data types"
   ]
  },
  {
   "cell_type": "code",
   "execution_count": null,
   "metadata": {},
   "outputs": [],
   "source": [
    "df.info()"
   ]
  },
  {
   "cell_type": "markdown",
   "metadata": {},
   "source": [
    "#### Let's Check the distribution of numerical columns"
   ]
  },
  {
   "cell_type": "code",
   "execution_count": null,
   "metadata": {},
   "outputs": [],
   "source": [
    "df.describe()"
   ]
  },
  {
   "cell_type": "markdown",
   "metadata": {},
   "source": [
    "'EmployeeCount' & 'StandardHours' have 0 standard deviation (std) which means same values is present in each record."
   ]
  },
  {
   "cell_type": "markdown",
   "metadata": {},
   "source": [
    "#### Let's check if a object data type (Categorical) column also has single unique value"
   ]
  },
  {
   "cell_type": "code",
   "execution_count": null,
   "metadata": {},
   "outputs": [],
   "source": [
    "# Select categorical columns\n",
    "obj_cols = df.select_dtypes(include=['object']).columns\n",
    "\n",
    "# Count the number of unique values in each of the column names saved in obj_cols & print column name if only 1 unique value\n",
    "for i in obj_cols:\n",
    "    # calculate unique values \n",
    "    unique_values = len(df[i].value_counts())\n",
    "    if unique_values == 1:\n",
    "        print(i, 'column has only 1 unique value')"
   ]
  },
  {
   "cell_type": "markdown",
   "metadata": {},
   "source": [
    "#### Drop 'EmployeeCount', 'StandardHours', 'Over18' (Since they have single unique value, they do not contribute any information during model training)"
   ]
  },
  {
   "cell_type": "code",
   "execution_count": null,
   "metadata": {},
   "outputs": [],
   "source": [
    "df.drop(['EmployeeCount', 'StandardHours', 'Over18'], axis = 1, inplace = True)"
   ]
  },
  {
   "cell_type": "markdown",
   "metadata": {},
   "source": [
    "## 2. Missing Value's Imputation"
   ]
  },
  {
   "cell_type": "markdown",
   "metadata": {},
   "source": [
    "#### Check for missing Values"
   ]
  },
  {
   "cell_type": "code",
   "execution_count": null,
   "metadata": {},
   "outputs": [],
   "source": [
    "df.isnull().sum()"
   ]
  },
  {
   "cell_type": "markdown",
   "metadata": {},
   "source": [
    "Missng values are present in 5 columns/input features."
   ]
  },
  {
   "cell_type": "code",
   "execution_count": null,
   "metadata": {
    "scrolled": true
   },
   "outputs": [],
   "source": [
    "plt.figure(figsize = (18,11))\n",
    "sns.heatmap(df.isnull(), cmap=\"Blues\", yticklabels=False, cbar = False)\n",
    "plt.xticks(rotation=25)\n",
    "plt.xlabel('Features', fontsize = 12)\n",
    "plt.title('Missing Values', fontsize = 16)\n",
    "plt.show()"
   ]
  },
  {
   "cell_type": "markdown",
   "metadata": {},
   "source": [
    "We see that in 5 columns there are a few missing values. Altough, there are quiet a few missing values."
   ]
  },
  {
   "cell_type": "markdown",
   "metadata": {},
   "source": [
    "#### Missing values Imputation for NumCompaniesWorked Column"
   ]
  },
  {
   "cell_type": "code",
   "execution_count": null,
   "metadata": {},
   "outputs": [],
   "source": [
    "# Check the distribution of MiNumCompaniesWorked\n",
    "\n",
    "# Plot NumComapniesworked Countplot\n",
    "plt.figure(figsize=(18,5))\n",
    "ax = sns.countplot(x='NumCompaniesWorked',data=df, palette='Set2')\n",
    "\n",
    "# Set xticks name\n",
    "ax.set(xticks=[0,1,2,3,4,5,6,7,8,9], xticklabels=[0,1,2,3,4,5,6,7,8,9])\n",
    "\n",
    "# set title, xlabel, ylabel\n",
    "plt.title('Distribution of Number of companies employees worked in', fontsize=14)\n",
    "ax.set_xlabel('NumCompaniesWorked',fontsize=12)\n",
    "ax.set_ylabel('Count',fontsize=12)\n",
    "plt.show()"
   ]
  },
  {
   "cell_type": "markdown",
   "metadata": {},
   "source": [
    "Fill missing values in NumCompaniesWorked with mode i.e. 1\n"
   ]
  },
  {
   "cell_type": "code",
   "execution_count": null,
   "metadata": {},
   "outputs": [],
   "source": [
    "df['NumCompaniesWorked'].fillna(1.0,inplace = True)"
   ]
  },
  {
   "cell_type": "markdown",
   "metadata": {},
   "source": [
    "#### Missing values Imputation for EnvironmentalSatisfaction Column"
   ]
  },
  {
   "cell_type": "code",
   "execution_count": null,
   "metadata": {},
   "outputs": [],
   "source": [
    "# Check the Distribution of EnvironmentalSatisfaction\n",
    "\n",
    "# plot countplot of values in EnvironmentalSatisfaction\n",
    "plt.figure(figsize=(18,5))\n",
    "ax = sns.countplot(x='EnvironmentSatisfaction',data=df, palette='Set2')\n",
    "\n",
    "# set x ticks name by refering to data dictionary\n",
    "ax.set(xticks=[0,1,2,3], xticklabels=['Low','Medium','High','Very High'])\n",
    "\n",
    "# set title, xlabel, ylabel\n",
    "plt.title('Distribution of employees Environmental Satisfaction', fontsize=14)\n",
    "ax.set_xlabel('Environmental Satisfaction',fontsize=12)\n",
    "ax.set_ylabel('Count',fontsize=12)\n",
    "plt.show()"
   ]
  },
  {
   "cell_type": "markdown",
   "metadata": {},
   "source": [
    "3.0 and 4.0 which means high and very high satisfaction occur most of the time."
   ]
  },
  {
   "cell_type": "code",
   "execution_count": null,
   "metadata": {},
   "outputs": [],
   "source": [
    "# Since there are two values with same count, lets find the median value of EnvironmentalSatisfaction\n",
    "print('For EnvironmentSatisfaction median :', df.EnvironmentSatisfaction.median())"
   ]
  },
  {
   "cell_type": "markdown",
   "metadata": {},
   "source": [
    "Lets replace the missing values by 3.0 which means High EnvironmentSatisfaction"
   ]
  },
  {
   "cell_type": "code",
   "execution_count": null,
   "metadata": {},
   "outputs": [],
   "source": [
    "df['EnvironmentSatisfaction'].fillna(3.0,inplace = True)"
   ]
  },
  {
   "cell_type": "markdown",
   "metadata": {},
   "source": [
    "#### Missing values Imputation for JobSatisfaction Column"
   ]
  },
  {
   "cell_type": "code",
   "execution_count": null,
   "metadata": {},
   "outputs": [],
   "source": [
    "# Check the distribution of JobSatisfaction\n",
    "\n",
    "# plot countplot of values in JobDistribution\n",
    "plt.figure(figsize=(18,5))\n",
    "ax = sns.countplot(x='JobSatisfaction',data=df, palette='Set2')\n",
    "\n",
    "# set xticks names\n",
    "ax.set(xticks=[0,1,2,3], xticklabels=['Low','Medium','High','Very High'])\n",
    "\n",
    "# set title, xlabel, ylabel\n",
    "plt.title('Distribution of employees Job Satisfaction', fontsize=14)\n",
    "ax.set_xlabel('Job Satisfaction',fontsize=12)\n",
    "ax.set_ylabel('Count',fontsize=12)\n",
    "plt.show()"
   ]
  },
  {
   "cell_type": "markdown",
   "metadata": {},
   "source": [
    "Again, 3.0 and 4.0 which means high and very high satisfaction occur most of the time.\n",
    "Lets find the median"
   ]
  },
  {
   "cell_type": "code",
   "execution_count": null,
   "metadata": {},
   "outputs": [],
   "source": [
    "df.JobSatisfaction.median()"
   ]
  },
  {
   "cell_type": "markdown",
   "metadata": {},
   "source": [
    "Replace missing values in JobSatisfaction with the mode (3.0)"
   ]
  },
  {
   "cell_type": "code",
   "execution_count": null,
   "metadata": {},
   "outputs": [],
   "source": [
    "df['JobSatisfaction'].fillna(3.0,inplace = True)"
   ]
  },
  {
   "cell_type": "markdown",
   "metadata": {},
   "source": [
    "#### Missing values imputation for WorkLifeBalance Column"
   ]
  },
  {
   "cell_type": "code",
   "execution_count": null,
   "metadata": {},
   "outputs": [],
   "source": [
    "# Check the distribution of WorkLifeBalance\n",
    "\n",
    "# plot countplot of values in WorkLifeBalance\n",
    "plt.figure(figsize=(18,5))\n",
    "ax = sns.countplot(x='WorkLifeBalance',data=df, palette='Set2')\n",
    "ax.set(xticks=[0,1,2,3], xticklabels=['Bad','Good','Better','Best'])\n",
    "\n",
    "# set title, xlabel, ylabel\n",
    "plt.title('Distribution of employees work-Life Balance', fontsize=14)\n",
    "ax.set_xlabel('Work-Life Balance',fontsize=12)\n",
    "ax.set_ylabel('Count',fontsize=12)\n",
    "plt.show()"
   ]
  },
  {
   "cell_type": "markdown",
   "metadata": {},
   "source": [
    "3.0 which means high WorkLifeBalance occurs most of the time."
   ]
  },
  {
   "cell_type": "markdown",
   "metadata": {},
   "source": [
    "Lets replace missing values in WorkLifeBalance with the mode (3.0)"
   ]
  },
  {
   "cell_type": "code",
   "execution_count": null,
   "metadata": {},
   "outputs": [],
   "source": [
    "df['WorkLifeBalance'].fillna(3.0,inplace = True)"
   ]
  },
  {
   "cell_type": "markdown",
   "metadata": {},
   "source": [
    "#### Missing values Imputation for TotalWorkingYears Column"
   ]
  },
  {
   "cell_type": "code",
   "execution_count": null,
   "metadata": {},
   "outputs": [],
   "source": [
    "# Check the distribution of TotalWorkingYears\n",
    "\n",
    "# plot countplot of values in TotalWorkingYears\n",
    "plt.figure(figsize = (18,6))\n",
    "sns.countplot(x='TotalWorkingYears',data=df, palette='Set2')\n",
    "\n",
    "# set title, xlabel, ylabel\n",
    "plt.title('Distribution of employees Total Working Years', fontsize=14)\n",
    "ax.set_xlabel('Total Working Years',fontsize=12)\n",
    "ax.set_ylabel('Count',fontsize=12)\n",
    "plt.show()"
   ]
  },
  {
   "cell_type": "code",
   "execution_count": null,
   "metadata": {},
   "outputs": [],
   "source": [
    "print('Median of Total Working Year :',df.TotalWorkingYears.median())"
   ]
  },
  {
   "cell_type": "markdown",
   "metadata": {},
   "source": [
    "Lets Fill the missing values in Total Working Years with 10.0"
   ]
  },
  {
   "cell_type": "code",
   "execution_count": null,
   "metadata": {},
   "outputs": [],
   "source": [
    "df['TotalWorkingYears'].fillna(10.0,inplace = True)"
   ]
  },
  {
   "cell_type": "markdown",
   "metadata": {},
   "source": [
    "### Check if all missing values have been imputed"
   ]
  },
  {
   "cell_type": "code",
   "execution_count": null,
   "metadata": {},
   "outputs": [],
   "source": [
    "print('Total Number of Missing Values remaining :',df.isnull().sum().sum())"
   ]
  },
  {
   "cell_type": "markdown",
   "metadata": {},
   "source": [
    "AllMissing Values Imputed!"
   ]
  },
  {
   "cell_type": "markdown",
   "metadata": {},
   "source": [
    "## 3. Exploratory Data Analysis"
   ]
  },
  {
   "cell_type": "markdown",
   "metadata": {},
   "source": [
    "#### Create a copy of df for performing EDA as we may change a few features while plotting"
   ]
  },
  {
   "cell_type": "code",
   "execution_count": null,
   "metadata": {},
   "outputs": [],
   "source": [
    "df_eda = df.copy()"
   ]
  },
  {
   "cell_type": "markdown",
   "metadata": {},
   "source": [
    "#### Let's go through each input feature to gain some insights about Employee Attrition"
   ]
  },
  {
   "cell_type": "code",
   "execution_count": null,
   "metadata": {},
   "outputs": [],
   "source": [
    "# Age - Lets create buckets/bins of 10 years\n",
    "df_eda.Age = pd.cut(df.Age, range(10, 70, 10)) # Create buckets of 10 years"
   ]
  },
  {
   "cell_type": "markdown",
   "metadata": {},
   "source": [
    "We use pandas.cut to segment and sort data values into bins. This function is also useful for going from a continuous variable to a categorical variable. Here, cut is used to could convert Age's to groups of age ranges."
   ]
  },
  {
   "cell_type": "code",
   "execution_count": null,
   "metadata": {},
   "outputs": [],
   "source": [
    "def make_plot(feature_name, x_ticks = 'not_needed'):\n",
    "    \"\"\"This function is used to generate a countplot for the passed input feature present\n",
    "    in df_eda dataframe. Appropriate plot title, xlabel, ylabel, lengend are also added.\n",
    "    The last part of this function also places a percentage value over each bar of\n",
    "    generated countplot.\n",
    "\n",
    "    Args:\n",
    "        feature_name: the feature name in string format.\n",
    "        x_ticks: default value is 'not_needed'. If you want to customize xticks then pass\n",
    "                 a list containing new xticks.\n",
    "\n",
    "    \"\"\"\n",
    "    # Initialize a figure\n",
    "    plt.figure(figsize = (18,7))\n",
    "    \n",
    "    # Generate a countplot for the passed feature_name\n",
    "    ax = sns.countplot(x=feature_name, hue='Attrition', data=df_eda, palette='Set2')\n",
    "    \n",
    "    # Check if custom x_tick is needed or not\n",
    "    if x_ticks != 'not_needed':\n",
    "        # Generate index of xticks\n",
    "        ticks_index = [i for i in range(len(x_ticks))]\n",
    "        \n",
    "        # set new xticks by passing ticks_index and custom xtick labels \n",
    "        ax.set(xticks=ticks_index, xticklabels=x_ticks)\n",
    "        \n",
    "    # set title, xlabel, ylabel, legend\n",
    "    plt.xlabel(feature_name,fontsize  = 14)\n",
    "    plt.ylabel('Employee Count',fontsize  = 14)\n",
    "    plt.title('{} vs Attrition'.format(feature_name), fontsize = 18)\n",
    "    plt.legend(fontsize = 14)\n",
    "\n",
    "    # From axis.patches get bar lengths\n",
    "    get_bars = ax.patches\n",
    "    half_bar_length = int(len(get_bars)/2)\n",
    "    bar_left = get_bars[:half_bar_length]\n",
    "    bar_right = get_bars[half_bar_length:]\n",
    "    \n",
    "    # Place %employees on top of each bar\n",
    "    for L, R in zip(bar_left, bar_right):\n",
    "        left_height = L.get_height()\n",
    "        right_height = R.get_height()\n",
    "        length_total = left_height + right_height\n",
    "\n",
    "        # place calculated employee percentage on top of each bar\n",
    "        ax.text(L.get_x() + L.get_width()/2., left_height + 30, '{0:.0%}'.format(left_height/length_total), ha=\"center\")\n",
    "        ax.text(R.get_x() + R.get_width()/2., right_height + 30, '{0:.0%}'.format(right_height/length_total), ha=\"center\")"
   ]
  },
  {
   "cell_type": "code",
   "execution_count": null,
   "metadata": {},
   "outputs": [],
   "source": [
    "pd.crosstab(df_eda['Age'],df_eda['Attrition'])"
   ]
  },
  {
   "cell_type": "code",
   "execution_count": null,
   "metadata": {},
   "outputs": [],
   "source": []
  },
  {
   "cell_type": "code",
   "execution_count": null,
   "metadata": {},
   "outputs": [],
   "source": [
    "# Age\n",
    "\n",
    "# using make_plot function, plot a Countplot of Employee's Age by Attrition \n",
    "make_plot('Age')"
   ]
  },
  {
   "cell_type": "markdown",
   "metadata": {},
   "source": [
    "apply chi square test for checking significance between catagorical"
   ]
  },
  {
   "cell_type": "markdown",
   "metadata": {},
   "source": [
    " - Employee Attrition % Reduces with Age. So, company should focus on retaining young employees. \n",
    " - 23% of Employees in Age range 20-30 leave the comapny, maybe in search some better jobs\n",
    " - 57% attrition was observed in age range 10-20. But, this may not be a problem as there are just a few employees in this age range. Also most of the employees in this age range must be interns."
   ]
  },
  {
   "cell_type": "code",
   "execution_count": null,
   "metadata": {},
   "outputs": [],
   "source": [
    "# BusinessTravel\n",
    "\n",
    "# using make_plot function, plot a Countplot of Employee's BusinessTravel by Attrition \n",
    "make_plot('BusinessTravel')"
   ]
  },
  {
   "cell_type": "markdown",
   "metadata": {},
   "source": [
    " - We can observe a clear trend of Employees who Travel Frequently tend to have a higher Attrition chance compared to employees who dont travel."
   ]
  },
  {
   "cell_type": "code",
   "execution_count": null,
   "metadata": {},
   "outputs": [],
   "source": [
    "# Department\n",
    "\n",
    "# using make_plot function, plot a Countplot of Employee's Department by Attrition \n",
    "make_plot('Department')"
   ]
  },
  {
   "cell_type": "markdown",
   "metadata": {},
   "source": [
    " - Employees in HR Department have much Higher Attrition % compared to Employees in other Departments."
   ]
  },
  {
   "cell_type": "code",
   "execution_count": null,
   "metadata": {},
   "outputs": [],
   "source": [
    "# Education\n",
    "# using make_plot function, plot a Countplot of Employee's Education by Attrition \n",
    "make_plot('Education',['Below College','College','Bachelor','Master','Doctor']) # pass custom xticks as per data dictionary"
   ]
  },
  {
   "cell_type": "markdown",
   "metadata": {},
   "source": [
    "- Education level of Employee does not appear to have a significant effect on attrition."
   ]
  },
  {
   "cell_type": "code",
   "execution_count": null,
   "metadata": {},
   "outputs": [],
   "source": [
    "# EducationField\n",
    "# using make_plot function, plot a Countplot of Employee's EducationField by Attrition \n",
    "make_plot('EducationField')"
   ]
  },
  {
   "cell_type": "markdown",
   "metadata": {},
   "source": [
    "- Just like HR department, Employees with HR related Education History have a higher Attrition %."
   ]
  },
  {
   "cell_type": "code",
   "execution_count": null,
   "metadata": {},
   "outputs": [],
   "source": [
    "# Gender \n",
    "# using make_plot function, plot a Countplot of Employee's Gender by Attrition \n",
    "make_plot('Gender')"
   ]
  },
  {
   "cell_type": "markdown",
   "metadata": {},
   "source": [
    "- Gender does not appear to effect Employee Attrition."
   ]
  },
  {
   "cell_type": "code",
   "execution_count": null,
   "metadata": {},
   "outputs": [],
   "source": [
    "# JobLevel\n",
    "# using make_plot function, plot a Countplot of Employee's JobLevel by Attrition \n",
    "make_plot('JobLevel')"
   ]
  },
  {
   "cell_type": "markdown",
   "metadata": {},
   "source": [
    " - Not much effect on attrition with JobLevel. But Attrition appears to be slightly decreasing with increasing JobLevel."
   ]
  },
  {
   "cell_type": "code",
   "execution_count": null,
   "metadata": {},
   "outputs": [],
   "source": [
    "# JobRole\n",
    "# using make_plot function, plot a Countplot of Employee's JobRole by Attrition \n",
    "make_plot('JobRole')"
   ]
  },
  {
   "cell_type": "markdown",
   "metadata": {},
   "source": [
    "- Research Directors and Research Scientists tend to have a higher % Attrition. Also Sales Executives tend to have a higher attrition rate."
   ]
  },
  {
   "cell_type": "code",
   "execution_count": null,
   "metadata": {},
   "outputs": [],
   "source": [
    "# MaritalStatus\n",
    "# using make_plot function, plot a Countplot of Employee's MaritalStatus by Attrition \n",
    "make_plot('MaritalStatus')"
   ]
  },
  {
   "cell_type": "markdown",
   "metadata": {},
   "source": [
    " - Un-married Employees Have much higher attrition chance compared to married/divorced employees."
   ]
  },
  {
   "cell_type": "code",
   "execution_count": null,
   "metadata": {},
   "outputs": [],
   "source": [
    "# NumCompaniesWorked\n",
    "# using make_plot function, plot a Countplot of Employee's NumCompaniesWorked by Attrition \n",
    "make_plot('NumCompaniesWorked')"
   ]
  },
  {
   "cell_type": "markdown",
   "metadata": {},
   "source": [
    "There is no clear trend in attrition with respect to number of companies an employees has worked. Altough employees who have worked in more than 4 companies are highly prone to leave the company."
   ]
  },
  {
   "cell_type": "code",
   "execution_count": null,
   "metadata": {},
   "outputs": [],
   "source": [
    "# StockOptionLevel\n",
    "# using make_plot function, plot a Countplot of Employee's StockOptionLevel by Attrition \n",
    "make_plot('StockOptionLevel')"
   ]
  },
  {
   "cell_type": "markdown",
   "metadata": {},
   "source": [
    "- Not much effect on Attrition with respect to employees StockOptionLevel."
   ]
  },
  {
   "cell_type": "code",
   "execution_count": null,
   "metadata": {},
   "outputs": [],
   "source": [
    "# JobInvolvement\n",
    "# using make_plot function, plot a Countplot of Employee's JobInvolvement by Attrition \n",
    "make_plot('JobInvolvement',['Low','Medium','High','Very High']) # pass custom xticks as per data dictionary"
   ]
  },
  {
   "cell_type": "markdown",
   "metadata": {},
   "source": [
    " - Employee with Low job involvement, tend to have a higher Attrition %."
   ]
  },
  {
   "cell_type": "code",
   "execution_count": null,
   "metadata": {},
   "outputs": [],
   "source": [
    "# PerformanceRating \n",
    "# using make_plot function, plot a Countplot of Employee's PerformanceRating by Attrition \n",
    "make_plot('PerformanceRating')"
   ]
  },
  {
   "cell_type": "markdown",
   "metadata": {},
   "source": [
    "- Not much difference in attrition with respect to performance rating."
   ]
  },
  {
   "cell_type": "code",
   "execution_count": null,
   "metadata": {},
   "outputs": [],
   "source": [
    "# EnvironmentSatisfaction\n",
    "# using make_plot function, plot a Countplot of Employee's EnvironmentSatisfaction by Attrition \n",
    "make_plot('EnvironmentSatisfaction',['Low','Medium','High','Very High']) # pass custom xticks as per data dictionary"
   ]
  },
  {
   "cell_type": "markdown",
   "metadata": {},
   "source": [
    "- Attrition Decreases with increasing Environment Satisfaction"
   ]
  },
  {
   "cell_type": "code",
   "execution_count": null,
   "metadata": {},
   "outputs": [],
   "source": [
    "# JobSatisfaction\n",
    "# using make_plot function, plot a Countplot of Employee's JobSatisfaction by Attrition \n",
    "make_plot('JobSatisfaction',['Low','Medium','High','Very High']) # pass custom xticks as per data dictionary"
   ]
  },
  {
   "cell_type": "markdown",
   "metadata": {},
   "source": [
    "- Job Attrition Decreases with increasing Job Satisfaction."
   ]
  },
  {
   "cell_type": "code",
   "execution_count": null,
   "metadata": {},
   "outputs": [],
   "source": [
    "# WorkLifeBalance\n",
    "# using make_plot function, plot a Countplot of Employee's WorkLifeBalance by Attrition \n",
    "make_plot('WorkLifeBalance',['Bad','Good','Better','Best']) # pass custom xticks as per data dictionary"
   ]
  },
  {
   "cell_type": "markdown",
   "metadata": {},
   "source": [
    " - As Expected, Employees with Bad work life balance have a higher attrition percentage."
   ]
  },
  {
   "cell_type": "markdown",
   "metadata": {},
   "source": [
    "#### Lets plot rest of the Continuous Variables together"
   ]
  },
  {
   "cell_type": "code",
   "execution_count": null,
   "metadata": {},
   "outputs": [],
   "source": [
    "# put remaining continuous features in a list\n",
    "continuous_features = ['DistanceFromHome','MonthlyIncome','TotalWorkingYears','TrainingTimesLastYear', 'YearsAtCompany',\n",
    "'YearsSinceLastPromotion','PercentSalaryHike','YearsWithCurrManager','mean_time']"
   ]
  },
  {
   "cell_type": "markdown",
   "metadata": {},
   "source": [
    "A kernel density estimate KDE plot is a method for visualizing the distribution of observations in a dataset, analagous to a histogram. KDE represents the data using a continuous probability density curve in one or more dimensions."
   ]
  },
  {
   "cell_type": "code",
   "execution_count": null,
   "metadata": {},
   "outputs": [],
   "source": [
    "# Total 9 Features, so Initialize subplots having 3x3 grid\n",
    "fig,ax =  plt.subplots(3,3, figsize = (18,10))\n",
    "\n",
    "# Initialize an index which will be helpful in iterating over,\n",
    "index = 0\n",
    "for i in range(3):\n",
    "    for j in range(3):\n",
    "        # set plot title\n",
    "        ax[i][j].set_title('Attrition vs %s' % (continuous_features[index]), fontsize=12, fontweight='bold')\n",
    "        \n",
    "        # Make kdeplot for the selected feature with respect to Attrition(yes or no) and show both curve on same plot \n",
    "        # make kdeplot for a feature when Attrition='Yes'\n",
    "        sns.kdeplot(df_eda[df_eda['Attrition']=='Yes'][continuous_features[index]],shade=True,label='Attrition = Yes',ax=ax[i][j])\n",
    "        \n",
    "        # make kdeplot for a feature when Attrition='No'\n",
    "        sns.kdeplot(df_eda[df_eda['Attrition']=='No'][continuous_features[index]],shade=True,label='Attrition = No',ax=ax[i][j]) \n",
    "        ax[i][j].legend()\n",
    "        \n",
    "        #increase index for continuous_features list in each iteration of for loop\n",
    "        index += 1\n",
    "\n",
    "# tight_layout automatically adjusts subplot params so that the subplot(s) fits in to the figure area and labels do not overlap.\n",
    "plt.tight_layout()\n",
    "plt.show()"
   ]
  },
  {
   "cell_type": "markdown",
   "metadata": {},
   "source": [
    "f-test laga sakte h isme"
   ]
  },
  {
   "cell_type": "markdown",
   "metadata": {},
   "source": [
    "- From 'Attrition vs TotalWorkingYears' and 'Attritions vs YearsAtCompany' it is clear that, employees who stay at company for a longer period of time have lower attrition rate. Similar pattern is also observed in case of 'Attrition vs Years withCurrManager'.\n",
    "- From 'Attrition vs mean_time' it can also be noted that the employees who left the company had slightly higher mean working hours. So. longer working Hours may be one of the reason for Attrition."
   ]
  },
  {
   "cell_type": "markdown",
   "metadata": {},
   "source": [
    "#### Lets check the taget variable Distribution"
   ]
  },
  {
   "cell_type": "code",
   "execution_count": null,
   "metadata": {},
   "outputs": [],
   "source": [
    "plt.figure(figsize=(18,5))\n",
    "\n",
    "# Make countplot of Attrition\n",
    "ax=sns.countplot(df_eda.Attrition)\n",
    "\n",
    "get_bars = ax.patches\n",
    "half_bar_length = int(len(get_bars)/2)\n",
    "bar_left = get_bars[:half_bar_length]\n",
    "bar_right = get_bars[half_bar_length:]\n",
    "\n",
    "for L, R in zip(bar_left, bar_right):\n",
    "    left_height = L.get_height()\n",
    "    right_height = R.get_height()\n",
    "    length_total = left_height + right_height\n",
    "\n",
    "    ax.text(L.get_x() + L.get_width()/2., left_height + 30, '{0:.0%}'.format(left_height/length_total), ha=\"center\")\n",
    "    ax.text(R.get_x() + R.get_width()/2., right_height + 30, '{0:.0%}'.format(right_height/length_total), ha=\"center\")"
   ]
  },
  {
   "cell_type": "markdown",
   "metadata": {},
   "source": [
    "- 16% of employee Attrition was seen, which means out of 4409, only 3602 employees stayed.\n",
    "- Also the target variable is heavily Imbalanced between the two classes. So, it will be a good idea to over-sample the data before training a Macchine Learning Model."
   ]
  },
  {
   "cell_type": "markdown",
   "metadata": {},
   "source": [
    "## Key take-aways from EDA :  \n",
    "\n",
    "- overall 16% employee attrition was observed during the year 2015.\n",
    "- Employees in Human resources are highly prone to quit with an attrition rate of 30%\n",
    "- similarly employees with human resources education background had an attrition rate of 41%\n",
    "- 31% of the employees who quit had bad work life balance.\n",
    "- young and unmarried employees are higly prone to quit with an average attrition rate of 24.5%.\n",
    "- Employees who traveled frequently were also highly prone to quit with an attrition rate of 25%.\n",
    "- employees at the lower job levels quit more often than employees on the higher level.\n",
    "- employees in the research department (research directors and research scientists ) are also prone to quit with an average attrition rate of 21%.\n",
    "- employees who have worked in more than 4 companies show a much higher attrition rate comapred to rest. \n",
    "- attrition decreases with increasing environmental satisfaction, job satisfaction and job involvement.\n",
    "- employee who leave company, worked for longer period of time, it means they could have been in higher work load or were not able to settle in company well."
   ]
  },
  {
   "cell_type": "markdown",
   "metadata": {},
   "source": [
    "## 4. Featuring Engineering"
   ]
  },
  {
   "cell_type": "markdown",
   "metadata": {},
   "source": [
    "## Encoding  \n",
    "Machine learning models can only work with numerical values. For this reason, it is necessary to transform the categorical values of the relevant features into numerical ones. This process is called feature encoding\n",
    "\n",
    "\n",
    "\n",
    "Find out all the categorical columns and encode them. As Machine Learning model's cannot understand text Data Types."
   ]
  },
  {
   "cell_type": "code",
   "execution_count": null,
   "metadata": {},
   "outputs": [],
   "source": [
    "df.head()"
   ]
  },
  {
   "cell_type": "markdown",
   "metadata": {},
   "source": [
    "## One - hot Encodig\n",
    "All the categorical variables are Nominal in nature, which means the values are independent of each other and do not follow any order. we will perform One-Hot encoding using pandas.get_dummies"
   ]
  },
  {
   "cell_type": "code",
   "execution_count": null,
   "metadata": {},
   "outputs": [],
   "source": [
    "# Store the column names in one_hot_var list. 1-hot encoding of these features will be done\n",
    "one_hot_var = ['BusinessTravel', 'Department', 'EducationField','JobRole','MaritalStatus']\n",
    "\n",
    "# perform 1-hot encoding on each column present i n one_hot_var\n",
    "for i in one_hot_var:\n",
    "    # perform 1-hot encoding for variable & store it in x_t dataframe\n",
    "    x_t = pd.get_dummies(df[i], prefix=i, prefix_sep='_', drop_first=True) # define new column name, separator and drop 1 of them.\n",
    "    \n",
    "    # join x_t to df\n",
    "    df = df.join(x_t)\n",
    "    \n",
    "    # drop original column from df as it is no longer needed\n",
    "    df.drop(i, axis = 1, inplace = True)"
   ]
  },
  {
   "cell_type": "markdown",
   "metadata": {},
   "source": [
    "Encode Gender and Attrition"
   ]
  },
  {
   "cell_type": "code",
   "execution_count": null,
   "metadata": {},
   "outputs": [],
   "source": [
    "# 'Attrition' (We should also encode target variable)\n",
    "df.Attrition=df.Attrition.apply(lambda x : 1 if x=='Yes' else 0)\n",
    "\n",
    "# 'Gender'\n",
    "df.Gender=df.Gender.apply(lambda x : 1 if x=='Male' else 0)"
   ]
  },
  {
   "cell_type": "markdown",
   "metadata": {},
   "source": [
    "#### Lets have a look at the df"
   ]
  },
  {
   "cell_type": "code",
   "execution_count": null,
   "metadata": {},
   "outputs": [],
   "source": [
    "df.head()"
   ]
  },
  {
   "cell_type": "markdown",
   "metadata": {},
   "source": [
    "### Split Features and Target"
   ]
  },
  {
   "cell_type": "code",
   "execution_count": null,
   "metadata": {},
   "outputs": [],
   "source": [
    "# Input Features\n",
    "X = df.drop('Attrition', axis = 1)\n",
    "\n",
    "# Target Variable\n",
    "y = df['Attrition']"
   ]
  },
  {
   "cell_type": "markdown",
   "metadata": {},
   "source": [
    "#### Split Training and Testing Data using train_test_split"
   ]
  },
  {
   "cell_type": "code",
   "execution_count": null,
   "metadata": {},
   "outputs": [],
   "source": [
    "from sklearn.model_selection import train_test_split \n",
    "\n",
    "X_train, X_test, y_train, y_test = train_test_split(X, y, test_size=0.25,stratify = y, random_state=42)"
   ]
  },
  {
   "cell_type": "markdown",
   "metadata": {},
   "source": [
    "#### Standardize input columns suing Standard Scaler"
   ]
  },
  {
   "cell_type": "code",
   "execution_count": null,
   "metadata": {},
   "outputs": [],
   "source": [
    "from sklearn.preprocessing import StandardScaler\n",
    "scaler = StandardScaler()\n",
    "\n",
    "# use only first few columns, as other columns dont need to be standardized\n",
    "X_train[X_train.columns[:21]] = scaler.fit_transform(X_train[X_train.columns[:21]])\n",
    "X_test[X_train.columns[:21]] = scaler.transform(X_test[X_train.columns[:21]])"
   ]
  },
  {
   "cell_type": "markdown",
   "metadata": {},
   "source": [
    "#### Check for multi-collinearity"
   ]
  },
  {
   "cell_type": "code",
   "execution_count": null,
   "metadata": {},
   "outputs": [],
   "source": [
    "# Save the training data in a separate df which will be used for finding coorelation\n",
    "df_corr = X_train.copy()"
   ]
  },
  {
   "cell_type": "code",
   "execution_count": null,
   "metadata": {},
   "outputs": [],
   "source": [
    "# plot a heatmap of correlation in training data\n",
    "plt.figure(figsize = (18,12))\n",
    "sns.heatmap(df_corr.corr(),cbar=True)\n",
    "plt.show()"
   ]
  },
  {
   "cell_type": "markdown",
   "metadata": {},
   "source": [
    "A little multi collinearity is observed."
   ]
  },
  {
   "cell_type": "markdown",
   "metadata": {},
   "source": [
    "#### Check collinearity of features with the target variable"
   ]
  },
  {
   "cell_type": "code",
   "execution_count": null,
   "metadata": {},
   "outputs": [],
   "source": [
    "df_corr['Attrition'] = y_train"
   ]
  },
  {
   "cell_type": "code",
   "execution_count": null,
   "metadata": {},
   "outputs": [],
   "source": [
    "plt.figure(figsize=(18,8))\n",
    "df_corr.corr()['Attrition'].sort_values(ascending = False)[1:].plot(kind='bar') # add [1:] to skip the target variable corr with itself\n",
    "plt.title('Features collinearity with the target',fontsize=16)\n",
    "plt.ylabel('Collinearity',fontsize = 12)\n",
    "plt.xticks(rotation=90)\n",
    "plt.show()"
   ]
  },
  {
   "cell_type": "markdown",
   "metadata": {},
   "source": [
    "#### Lets check if there is high multi-collinearity between features."
   ]
  },
  {
   "cell_type": "code",
   "execution_count": null,
   "metadata": {},
   "outputs": [],
   "source": [
    "# Make a dataframe of correlation between features \n",
    "df_corr1 = df_corr.corr()\n",
    "\n",
    "# Iterate over df_corr1 and find if collinearity > 0.8 exists\n",
    "for i in range(df_corr1.shape[0]):\n",
    "    for j in range(df_corr1.shape[1]):\n",
    "        \n",
    "        # Define both conditions, i.e. absolute value of collinearity > 0.8 & collinearity not equal to 1, As Corr. with itself is always 1.\n",
    "        if (abs(df_corr1.iloc[i,j]) >0.8) & (abs(df_corr1.iloc[i,j]) !=1):\n",
    "            print('Correlation = ',round(df_corr1.iloc[i,j],3),df_corr1.columns[j],' & ',df_corr1.index[i])"
   ]
  },
  {
   "cell_type": "markdown",
   "metadata": {},
   "source": [
    "Department_Sales  &  Department_Research & Development are highly coorelated, so drop one of them"
   ]
  },
  {
   "cell_type": "markdown",
   "metadata": {},
   "source": [
    "#### Drop Department_Sales from Both Training and Testing Data"
   ]
  },
  {
   "cell_type": "code",
   "execution_count": null,
   "metadata": {},
   "outputs": [],
   "source": [
    "X_train.drop('Department_Sales',axis=1,inplace=True)\n",
    "X_test.drop('Department_Sales',axis=1,inplace=True)"
   ]
  },
  {
   "cell_type": "markdown",
   "metadata": {},
   "source": [
    "#### Lets have a look at the training data again"
   ]
  },
  {
   "cell_type": "code",
   "execution_count": null,
   "metadata": {},
   "outputs": [],
   "source": [
    "X_train.head()"
   ]
  },
  {
   "cell_type": "markdown",
   "metadata": {},
   "source": [
    "Everything look fine! Lets go ahead with Model Building."
   ]
  },
  {
   "cell_type": "markdown",
   "metadata": {},
   "source": [
    "## 5. Model Building  \n",
    "We will be using  DecisionTreeClassifier\n",
    "\n",
    "A decision tree follows tree-like model of decisions and their possible outcomes. It is a way to represent an algorithm that only contains conditional control statements.\n",
    "It follows a flowchart-like structure. Each internal node represents a \"test\" on a feature whereas every branch represents the outcome of the test, & each terminal/leaf node represents the outcome which can be a continuous value or class label for regression and classification problem respectively.  \n",
    " - It is a Supervised Learning Algorithm.\n",
    " - it can be used for both classification and regression problems.\n",
    " - It can also handle non-linear data which was not possible in case of linear models\n",
    " \n",
    "Advantages :  \n",
    " - Simple and easy to understand and visualize\n",
    " - Somewhat resistant to outliers\n",
    " - No Feature Scaling is Required.\n",
    " \n",
    "Disadvantages :  \n",
    " - Overfitting\n",
    " - High variance\n",
    " - Not suitable for large Datasets"
   ]
  },
  {
   "cell_type": "markdown",
   "metadata": {},
   "source": [
    "#### Let's use sklearn library to train a Decision tree model on the dataset"
   ]
  },
  {
   "cell_type": "code",
   "execution_count": null,
   "metadata": {},
   "outputs": [],
   "source": [
    "# Import Decision Tree Model\n",
    "from sklearn.tree import DecisionTreeClassifier\n",
    "\n",
    "# Initialize a Decision Tree model\n",
    "m1 = DecisionTreeClassifier(random_state = 42)\n",
    "\n",
    "# Train the Decision Tree model\n",
    "m1.fit(X_train,y_train)"
   ]
  },
  {
   "cell_type": "markdown",
   "metadata": {},
   "source": [
    "\n",
    "**Import cross validation score for model evaluation.**  \n",
    "Cross_val_score is used to perform cross-validation and get model's performance score."
   ]
  },
  {
   "cell_type": "code",
   "execution_count": null,
   "metadata": {},
   "outputs": [],
   "source": [
    "from sklearn.model_selection import cross_val_score "
   ]
  },
  {
   "cell_type": "code",
   "execution_count": null,
   "metadata": {},
   "outputs": [],
   "source": [
    "# Define the model\n",
    "dt_cv = DecisionTreeClassifier(random_state = 42)\n",
    "\n",
    "# Lets perform Cross-validation on each of then with 5 fold and find mean f1 score\n",
    "print('Cross Validation Accuracy\\n')\n",
    "\n",
    "# Cross Validation on DecisionTreesClassifier\n",
    "cv_dt = cross_val_score(dt_cv, X_train, y_train, cv = 5, scoring = 'accuracy').mean()\n",
    "print('For Decision Trees Classifier :', round(cv_dt,3))"
   ]
  },
  {
   "cell_type": "code",
   "execution_count": null,
   "metadata": {},
   "outputs": [],
   "source": [
    "# Cross Validation on DecisionTreesClassifier\n",
    "cv_dt = cross_val_score(dt_cv, X_test, y_test, cv = 5, scoring = 'accuracy').mean()\n",
    "print('For Decision Trees Classifier :', round(cv_dt,3))"
   ]
  },
  {
   "cell_type": "markdown",
   "metadata": {},
   "source": [
    "## Lets Over-Sample the training Data  \n",
    "\n",
    "As, 16% employee Attrition was there. The number of 0's(representing employee stayed) in the target variables are more than 5 times than that of 1's(representing employee Attrition) in the target variable.  \n",
    "\n",
    "Imbalanced dataset pose a challenge for predictive modeling as most of the machine learning algorithms used for classification are designed around the assumption of an equal number of examples for each class. So, training a model on imbalanced dataset results in poor predictive performance, specifically for the minority class. This is a problem because typically, the minority class is more important and therefore the problem is more sensitive to classification errors for the minority class than the majority class.\n",
    "\n",
    "For this purpose We will over-sample the minority class (1's) in the target variable and make the number of 0's(majority class) and 1's(minority class) equal."
   ]
  },
  {
   "attachments": {
    "1_o_KfyMzF7LITK2DlYm_wHw.png": {
     "image/png": "[encoded data removed]"
    }
   },
   "cell_type": "markdown",
   "metadata": {},
   "source": [
    "![1_o_KfyMzF7LITK2DlYm_wHw.png](attachment:1_o_KfyMzF7LITK2DlYm_wHw.png)"
   ]
  },
  {
   "cell_type": "markdown",
   "metadata": {},
   "source": [
    "We will be using SMOTE for over-sampling purpose. It works by selecting minority samples that are close in the feature space, drawing a line between these samples in the feature space and drawing a new sample at a point along that line.\n",
    "\n",
    "Specifically, a random sample from the minority class is first chosen. Then k of the nearest neighbors for that sample are found (typically k=5). A randomly selected neighbor is chosen and a synthetic example is created at a randomly selected point between the two examples in feature space."
   ]
  },
  {
   "attachments": {
    "Synthetic-minority-over-sampling-technique-SMOTE.png": {
     "image/png": "[encoded data removed]"
    }
   },
   "cell_type": "markdown",
   "metadata": {},
   "source": [
    "![Synthetic-minority-over-sampling-technique-SMOTE.png](attachment:Synthetic-minority-over-sampling-technique-SMOTE.png)"
   ]
  },
  {
   "cell_type": "code",
   "execution_count": null,
   "metadata": {},
   "outputs": [],
   "source": [
    "# Import Synthetic minority over-sampling from imblearn libraray\n",
    "\n",
    "from imblearn.over_sampling import SMOTE"
   ]
  },
  {
   "cell_type": "code",
   "execution_count": null,
   "metadata": {},
   "outputs": [],
   "source": [
    "smte = SMOTE()\n",
    "X_os, y_os = smte.fit_resample(X_train,y_train)  # Fit SMOTE with training data and re-sample the data to get balanced data."
   ]
  },
  {
   "cell_type": "code",
   "execution_count": null,
   "metadata": {
    "scrolled": true
   },
   "outputs": [],
   "source": [
    "print('Training data          0\\'s   1\\'s')\n",
    "print('Before over-sampling  {}   {}'.format(y_train.value_counts()[0],y_train.value_counts()[1]))\n",
    "print('After over-sampling   {}   {}\\n'.format(y_os.value_counts()[0],y_os.value_counts()[1]))\n",
    "\n",
    "print('After Over-sampling {} synthetic records were added to the training data and now there are equal proportion of 0\\'s and 1\\'s in the training data'.format(len(X_os)-len(X_train)))"
   ]
  },
  {
   "cell_type": "code",
   "execution_count": null,
   "metadata": {},
   "outputs": [],
   "source": [
    "# Initialize the model\n",
    "dt_cv = DecisionTreeClassifier(max_depth=10,random_state = 42)\n",
    "\n",
    "# Lets perform Cross-validation on each of then with 5 fold and find mean f1 score\n",
    "print('Cross Validation Accuracy')\n",
    "\n",
    "# Cross Validation on DecisionTreesClassifier\n",
    "cv_dt = cross_val_score(dt_cv, X_os, y_os, cv = 5, scoring = 'accuracy').mean()\n",
    "print('For Decision Trees Classifier :', round(cv_dt,3))"
   ]
  },
  {
   "cell_type": "code",
   "execution_count": null,
   "metadata": {},
   "outputs": [],
   "source": [
    "# Cross Validation on DecisionTreesClassifier\n",
    "cv_dt = cross_val_score(dt_cv, X_test, y_test, cv = 5, scoring = 'accuracy').mean()\n",
    "print('For Decision Trees Classifier :', round(cv_dt,3))"
   ]
  },
  {
   "cell_type": "markdown",
   "metadata": {},
   "source": [
    "- After over-smapling, the performance of DecisionTree model increased."
   ]
  },
  {
   "cell_type": "markdown",
   "metadata": {},
   "source": [
    "### Hyper-parameter Tuning using GridSearchCV\n",
    "Let's perform hyper-parameter tuning.  \n",
    "\n",
    "Grid search is the process of performing hyper-parameter tuning in order to determine the best set of hyper-parameters for a given model. The performance of a model significantly depends on the value of hyperparameters. There is no way to know the best values for hyperparameters. So, we need to try all possible values to know the optimal/best hyperparameters. Doing this manually could take a considerable amount of time and resources and thus we use GridSearchCV to automate this process.  \n",
    "\n",
    "In GridSearch, we pass range of values for each hyperparameters to the GridSearchCV function. We do this by defining a dictionary in which we mention a particular hyperparameter along with the values it can take in a list.\n",
    "\n",
    "GridSearchCV tries all the combinations of the values passed in the dictionary and evaluates the model for each combination using the Cross-Validation method. Hence after using this function we get accuracy/loss for every combination of hyperparameters and we can choose the one with the best performance.\n",
    "\n",
    "GridSearchCV is a function that comes in Scikit-learn’s(or SK-learn) model_selection package"
   ]
  },
  {
   "cell_type": "markdown",
   "metadata": {},
   "source": [
    "**Import Grid searchCV for hyper-parameter tuning.**"
   ]
  },
  {
   "cell_type": "code",
   "execution_count": null,
   "metadata": {},
   "outputs": [],
   "source": [
    "from sklearn.model_selection import GridSearchCV, cross_val_score"
   ]
  },
  {
   "cell_type": "code",
   "execution_count": null,
   "metadata": {},
   "outputs": [],
   "source": [
    "# Hyper-parameter Tuning\n",
    "\n",
    "# Define Parameter's grid\n",
    "grid = {'max_features': ['log2', 'sqrt','auto'],\n",
    "              'splitter':['best', 'random'],\n",
    "              'criterion': ['entropy', 'gini'],\n",
    "              'max_depth': [20,25,30,35,40], \n",
    "              'min_samples_split': [4, 6, 10,15,20],\n",
    "              'min_samples_leaf': [1, 5, 8]\n",
    "             }\n",
    "\n",
    "# Initialize GridSearch\n",
    "gs_dt = GridSearchCV(DecisionTreeClassifier(random_state = 42), grid, n_jobs=-1, verbose=2,scoring='accuracy',return_train_score=True)\n",
    "\n",
    "# Perform/train Grid-search\n",
    "gs_dt.fit(X_os, y_os)\n",
    "\n",
    "print('Best Parameters :',gs_dt.best_params_)\n",
    "print('Mean Train Score :',round(gs_dt.cv_results_['mean_train_score'].mean(),4))\n",
    "print('Mean Test Score :',round(gs_dt.cv_results_['mean_test_score'].mean(),4))\n",
    "print('Best Test  Score :',round(gs_dt.best_score_,4))"
   ]
  },
  {
   "cell_type": "markdown",
   "metadata": {},
   "source": [
    "- After Hyper-parameter tuning, the performance is slightly improved.\n",
    "- Also, there is slight difference in the train and test score which means our model has not over-fitted."
   ]
  },
  {
   "cell_type": "markdown",
   "metadata": {},
   "source": [
    "#### Define Best Model using the hyper-parameters obatained after tuning"
   ]
  },
  {
   "cell_type": "code",
   "execution_count": null,
   "metadata": {},
   "outputs": [],
   "source": [
    "dt = DecisionTreeClassifier(criterion= 'entropy', splitter= 'best', max_depth= 25, max_features= 'sqrt', min_samples_leaf= 1, min_samples_split= 4,random_state = 42)"
   ]
  },
  {
   "cell_type": "markdown",
   "metadata": {},
   "source": [
    "#### Train the best model and make prediction for the testing data"
   ]
  },
  {
   "cell_type": "code",
   "execution_count": null,
   "metadata": {},
   "outputs": [],
   "source": [
    "y_pred = dt.fit(X_os,y_os).predict(X_test)"
   ]
  },
  {
   "cell_type": "markdown",
   "metadata": {},
   "source": [
    "#### Lets Visualize the Trained Decision Tree using plot_tree"
   ]
  },
  {
   "cell_type": "code",
   "execution_count": null,
   "metadata": {},
   "outputs": [],
   "source": [
    "from sklearn import tree\n",
    "# Initialize Figure\n",
    "plt.figure(figsize=(120,110))\n",
    "\n",
    "# Plot Decision tree\n",
    "tree.plot_tree(dt, filled=True)\n",
    "plt.show()"
   ]
  },
  {
   "cell_type": "markdown",
   "metadata": {},
   "source": [
    "## 6. Model Evaluation"
   ]
  },
  {
   "cell_type": "markdown",
   "metadata": {},
   "source": [
    "Import Performance Metrics"
   ]
  },
  {
   "cell_type": "code",
   "execution_count": null,
   "metadata": {},
   "outputs": [],
   "source": [
    "from sklearn.metrics import accuracy_score, f1_score, precision_score, recall_score, confusion_matrix"
   ]
  },
  {
   "cell_type": "markdown",
   "metadata": {},
   "source": [
    " - **Confusion matrix** : A confusion matrix is a table that is often used to describe the performance of a classification model (or \"classifier\") on a set of test data for which the true values are known. The confusion matrix itself is relatively simple to understand\n",
    " - **Accuracy** : Out of total records in test data, how many did you classify correctly?\n",
    " - **Precisoin** : Whenever you classify a record as positive, what is the % chance that you are right?\n",
    " - **Recall** : Out of all the records of a particular class, how many did you classify correctly?\n",
    " - **F1-score** : Harmonic mean of Precision and Recall."
   ]
  },
  {
   "cell_type": "code",
   "execution_count": null,
   "metadata": {},
   "outputs": [],
   "source": [
    "print('Accuracy  score : ' + str(round(accuracy_score(y_test,y_pred),3)))\n",
    "\n",
    "\n",
    "print('Precision score : ' + str(round(precision_score(y_test,y_pred),3)))\n",
    "print('Recall    score : ' + str(round(recall_score(y_test,y_pred),3)))\n",
    "print('F1        score : ' + str(round(f1_score(y_test,y_pred),3)))\n",
    "\n",
    "print('\\nConfusion Matrix\\n' + str(confusion_matrix(y_test, y_pred)))"
   ]
  },
  {
   "cell_type": "markdown",
   "metadata": {},
   "source": [
    "The Model performed extremely well. Value of All the performance Metric's were greater than 85%"
   ]
  },
  {
   "cell_type": "markdown",
   "metadata": {},
   "source": [
    "#### Lets plot ROC Curve  \n",
    "An ROC curve (receiver operating characteristic curve) is a graph showing the performance of a classification model at all classification thresholds. This curve plots two parameters which are True Positive Rate and False Positive Rate.  \n",
    "The True Positive Rate(TPR) of a model should be high and False Positive Rate(FPR) should be low. Also the Area under the curve (AUC) should be high. The maximum value of AUC is 1."
   ]
  },
  {
   "cell_type": "code",
   "execution_count": null,
   "metadata": {},
   "outputs": [],
   "source": [
    "# Import auc, roc_curve\n",
    "from sklearn.metrics import auc, roc_curve\n",
    "\n",
    "# Get false positive rate, true positive rate and threshold\n",
    "fpr, tpr, threshold = roc_curve(y_test, y_pred)\n",
    "\n",
    "# Compute Area under curve\n",
    "area = auc(fpr, tpr)\n",
    "\n",
    "# plot the roc curve\n",
    "# Initialize Figure\n",
    "plt.figure(figsize=(18,5))\n",
    "\n",
    "plt.plot(fpr, tpr, 'b', label = 'AUC = %0.2f' % area)\n",
    "\n",
    "# plot straight line\n",
    "plt.plot([0, 1], [0, 1],color='g', marker='_')\n",
    "\n",
    "# set plot title, xlabel, ylabel, legend\n",
    "plt.title('ROC Curve', fontsize=16)\n",
    "plt.ylabel('True Positive Rate', fontsize=14)\n",
    "plt.xlabel('False Positive Rate', fontsize=14)\n",
    "plt.legend(loc = 'lower right', fontsize = 12)\n",
    "\n",
    "plt.show()"
   ]
  },
  {
   "cell_type": "markdown",
   "metadata": {},
   "source": [
    "Area under curve value 0.97 which means our model has good prediction performance."
   ]
  },
  {
   "cell_type": "markdown",
   "metadata": {},
   "source": [
    "#### Let's check the Classification Report\n",
    "A Classification report is used to measure the quality of predictions from a classification algorithm. It basically consists of 4 types of performance metrics discussed earlier i.e. accuracy, precision, recall, f1 scroe."
   ]
  },
  {
   "cell_type": "code",
   "execution_count": null,
   "metadata": {},
   "outputs": [],
   "source": [
    "from sklearn.metrics import classification_report\n",
    "\n",
    "print('Classification Report\\n',classification_report(y_test, y_pred))"
   ]
  },
  {
   "cell_type": "markdown",
   "metadata": {},
   "source": [
    "The developed model properly classified both of the classes of target variable. Even for the minority class (1's or employee Attrition), the f1 score was 0.96. It means that our model has learned to predict the employee Attrition very well."
   ]
  },
  {
   "cell_type": "markdown",
   "metadata": {},
   "source": [
    "## Notes\n",
    "- The performance of the developed model is excellent, and it can be deployed to predict future Employee Attrition.\n",
    "- We found a lot of insights about Employee Attrition during EDA.\n",
    "- Few major cause of Employee Attrition includes Human Resource work, bad work-life balance, Frequent Travels and Unmarried Employees. So, in order to reduce attrition, Company should mainly focus on these reasons.\n",
    "- Over-sampling significantly improved the performance of non-tree based models(Logistic Regression and KNN).\n",
    "- The final model performance was superb. But it can still be enhanced using other advanced models and techniques like model stacking etc."
   ]
  },
  {
   "cell_type": "code",
   "execution_count": null,
   "metadata": {},
   "outputs": [],
   "source": []
  },
  {
   "cell_type": "code",
   "execution_count": null,
   "metadata": {},
   "outputs": [],
   "source": []
  },
  {
   "cell_type": "code",
   "execution_count": null,
   "metadata": {},
   "outputs": [],
   "source": []
  }
 ],
 "metadata": {
  "kernelspec": {
   "display_name": "Python 3 (ipykernel)",
   "language": "python",
   "name": "python3"
  },
  "language_info": {
   "codemirror_mode": {
    "name": "ipython",
    "version": 3
   },
   "file_extension": ".py",
   "mimetype": "text/x-python",
   "name": "python",
   "nbconvert_exporter": "python",
   "pygments_lexer": "ipython3",
   "version": "3.9.12"
  }
 },
 "nbformat": 4,
 "nbformat_minor": 4
}
